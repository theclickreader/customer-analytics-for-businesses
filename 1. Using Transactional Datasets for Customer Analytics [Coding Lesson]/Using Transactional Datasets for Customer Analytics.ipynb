{
 "cells": [
  {
   "cell_type": "markdown",
   "metadata": {
    "_uuid": "054f0cca3061be223d76116cb8544b598eb5a297"
   },
   "source": [
    "# Using Transactional Datasets for Customer Analytics\n",
    "\n",
    "Transactional datasets are one of the most common customer datasets available to all businesses. Such datasets hold information about the purchase history of customers including the amount, frequency and date of purchases.\n",
    "\n",
    "In this lesson, we will be looking at a transactional dataset from an online retail store and our goal with this lesson is to clean this dataset and make it ready for performing customer analytics."
   ]
  },
  {
   "cell_type": "markdown",
   "metadata": {},
   "source": [
    "<img src = \"images/store.jpg\" width = 600>"
   ]
  },
  {
   "cell_type": "markdown",
   "metadata": {},
   "source": [
    "The dataset contains the following information:\n",
    "\n",
    "- **CustomerID**: Unique ID assigned to each customer\n",
    "- **InvoiceNo**: Unique number assigned for each invoice \n",
    "- **AmountSpent**: Amount spent by the customer\n",
    "- **InvoiceDate**: Date of transaction\n",
    "- **Country**: Name of the country where the order was placed"
   ]
  },
  {
   "cell_type": "markdown",
   "metadata": {},
   "source": [
    "Before we get started, please make sure you've installed Python in your system along with its libraries `pandas`, `numpy` and `matplotlib`. You can install the libraries using the following command,"
   ]
  },
  {
   "cell_type": "code",
   "execution_count": 1,
   "metadata": {},
   "outputs": [],
   "source": [
    "# !pip install numpy pandas matplotlib"
   ]
  },
  {
   "cell_type": "markdown",
   "metadata": {
    "_uuid": "fd0fc89fe26333add074845d0629b52ae828584c"
   },
   "source": [
    "Let us start by importing the necessary libraries,"
   ]
  },
  {
   "cell_type": "code",
   "execution_count": 2,
   "metadata": {
    "_cell_guid": "b1076dfc-b9ad-4769-8c92-a6c4dae69d19",
    "_kg_hide-input": false,
    "_uuid": "8f2839f25d086af736a60e9eeb907d3b93b6e0e5"
   },
   "outputs": [],
   "source": [
    "import pandas as pd"
   ]
  },
  {
   "cell_type": "markdown",
   "metadata": {
    "_uuid": "5b838f778af8cb2740c6d54e5bb6608223ab54f4"
   },
   "source": [
    "Next, importing the CSV file called `transaction_dataset.csv` which contains information about the purchases made by the customers."
   ]
  },
  {
   "cell_type": "code",
   "execution_count": 3,
   "metadata": {
    "_cell_guid": "79c7e3d0-c299-4dcb-8224-4455121ee9b0",
    "_uuid": "d629ff2d2480ee46fbb7e2d37f6b5fab8052498a"
   },
   "outputs": [
    {
     "data": {
      "text/html": [
       "<div>\n",
       "<style scoped>\n",
       "    .dataframe tbody tr th:only-of-type {\n",
       "        vertical-align: middle;\n",
       "    }\n",
       "\n",
       "    .dataframe tbody tr th {\n",
       "        vertical-align: top;\n",
       "    }\n",
       "\n",
       "    .dataframe thead th {\n",
       "        text-align: right;\n",
       "    }\n",
       "</style>\n",
       "<table border=\"1\" class=\"dataframe\">\n",
       "  <thead>\n",
       "    <tr style=\"text-align: right;\">\n",
       "      <th></th>\n",
       "      <th>CustomerID</th>\n",
       "      <th>InvoiceNo</th>\n",
       "      <th>AmountSpent</th>\n",
       "      <th>InvoiceDate</th>\n",
       "      <th>Country</th>\n",
       "    </tr>\n",
       "  </thead>\n",
       "  <tbody>\n",
       "    <tr>\n",
       "      <th>0</th>\n",
       "      <td>17850.0</td>\n",
       "      <td>536365</td>\n",
       "      <td>15.30</td>\n",
       "      <td>12/1/2010 8:26</td>\n",
       "      <td>United Kingdom</td>\n",
       "    </tr>\n",
       "    <tr>\n",
       "      <th>1</th>\n",
       "      <td>17850.0</td>\n",
       "      <td>536365</td>\n",
       "      <td>20.34</td>\n",
       "      <td>12/1/2010 8:26</td>\n",
       "      <td>United Kingdom</td>\n",
       "    </tr>\n",
       "    <tr>\n",
       "      <th>2</th>\n",
       "      <td>17850.0</td>\n",
       "      <td>536365</td>\n",
       "      <td>22.00</td>\n",
       "      <td>12/1/2010 8:26</td>\n",
       "      <td>United Kingdom</td>\n",
       "    </tr>\n",
       "    <tr>\n",
       "      <th>3</th>\n",
       "      <td>17850.0</td>\n",
       "      <td>536365</td>\n",
       "      <td>20.34</td>\n",
       "      <td>12/1/2010 8:26</td>\n",
       "      <td>United Kingdom</td>\n",
       "    </tr>\n",
       "    <tr>\n",
       "      <th>4</th>\n",
       "      <td>17850.0</td>\n",
       "      <td>536365</td>\n",
       "      <td>20.34</td>\n",
       "      <td>12/1/2010 8:26</td>\n",
       "      <td>United Kingdom</td>\n",
       "    </tr>\n",
       "  </tbody>\n",
       "</table>\n",
       "</div>"
      ],
      "text/plain": [
       "   CustomerID InvoiceNo  AmountSpent     InvoiceDate         Country\n",
       "0     17850.0    536365        15.30  12/1/2010 8:26  United Kingdom\n",
       "1     17850.0    536365        20.34  12/1/2010 8:26  United Kingdom\n",
       "2     17850.0    536365        22.00  12/1/2010 8:26  United Kingdom\n",
       "3     17850.0    536365        20.34  12/1/2010 8:26  United Kingdom\n",
       "4     17850.0    536365        20.34  12/1/2010 8:26  United Kingdom"
      ]
     },
     "execution_count": 3,
     "metadata": {},
     "output_type": "execute_result"
    }
   ],
   "source": [
    "# Read the CSV data as a Pandas DataFrame\n",
    "transaction_df = pd.read_csv('data/transaction_dataset.csv', low_memory=False)\n",
    "\n",
    "# Looking at the first five rows\n",
    "transaction_df.head()"
   ]
  },
  {
   "cell_type": "markdown",
   "metadata": {},
   "source": [
    "Let us look at the shape of the dataframe to know how large is the dataset."
   ]
  },
  {
   "cell_type": "code",
   "execution_count": 4,
   "metadata": {},
   "outputs": [
    {
     "data": {
      "text/plain": [
       "(541908, 5)"
      ]
     },
     "execution_count": 4,
     "metadata": {},
     "output_type": "execute_result"
    }
   ],
   "source": [
    "# Printing the shape of the dataframe\n",
    "transaction_df.shape"
   ]
  },
  {
   "cell_type": "markdown",
   "metadata": {},
   "source": [
    "As a first step, we should always clean a dataset before performing customer analytics.\n",
    "\n",
    "Data cleaning processes differ from one dataset to the other but the general idea is the same, that is, we are trying to ensure that the data is verified and validated before any insights are generated from it.\n",
    "\n",
    "Let us start by checking if the DataFrame has any null values in it."
   ]
  },
  {
   "cell_type": "code",
   "execution_count": 5,
   "metadata": {},
   "outputs": [
    {
     "data": {
      "text/plain": [
       "CustomerID     135080\n",
       "InvoiceNo           0\n",
       "AmountSpent         0\n",
       "InvoiceDate         0\n",
       "Country             0\n",
       "dtype: int64"
      ]
     },
     "execution_count": 5,
     "metadata": {},
     "output_type": "execute_result"
    }
   ],
   "source": [
    "# Checking for null values\n",
    "transaction_df.isnull().sum()"
   ]
  },
  {
   "cell_type": "markdown",
   "metadata": {},
   "source": [
    "There are two ways to handle such null values. We can either remove the data rows containing the null values or we can fill the null values with some statistical value using the mean, max, etc. of the column.\n",
    "\n",
    "In this case, CustomerID represents the individuality of a customer. Filling it is not a good idea since we cannot guess which customer made the purchase in the transactional dataset.\n",
    "\n",
    "So, let us drop all the data rows containing null values."
   ]
  },
  {
   "cell_type": "code",
   "execution_count": 6,
   "metadata": {},
   "outputs": [],
   "source": [
    "# Dropping the null values\n",
    "transaction_df.dropna(inplace=True)"
   ]
  },
  {
   "cell_type": "code",
   "execution_count": 7,
   "metadata": {},
   "outputs": [
    {
     "data": {
      "text/plain": [
       "CustomerID     0\n",
       "InvoiceNo      0\n",
       "AmountSpent    0\n",
       "InvoiceDate    0\n",
       "Country        0\n",
       "dtype: int64"
      ]
     },
     "execution_count": 7,
     "metadata": {},
     "output_type": "execute_result"
    }
   ],
   "source": [
    "# Check for null values\n",
    "transaction_df.isnull().sum()"
   ]
  },
  {
   "cell_type": "markdown",
   "metadata": {},
   "source": [
    "Hence, we've successfully handled the missing values. Next, let us look at the data types of the various columns in the dataset."
   ]
  },
  {
   "cell_type": "code",
   "execution_count": 8,
   "metadata": {},
   "outputs": [
    {
     "name": "stdout",
     "output_type": "stream",
     "text": [
      "<class 'pandas.core.frame.DataFrame'>\n",
      "Int64Index: 406828 entries, 0 to 541907\n",
      "Data columns (total 5 columns):\n",
      " #   Column       Non-Null Count   Dtype  \n",
      "---  ------       --------------   -----  \n",
      " 0   CustomerID   406828 non-null  float64\n",
      " 1   InvoiceNo    406828 non-null  object \n",
      " 2   AmountSpent  406828 non-null  float64\n",
      " 3   InvoiceDate  406828 non-null  object \n",
      " 4   Country      406828 non-null  object \n",
      "dtypes: float64(2), object(3)\n",
      "memory usage: 18.6+ MB\n"
     ]
    }
   ],
   "source": [
    "# Printing a concise summary of the DataFrame\n",
    "transaction_df.info()"
   ]
  },
  {
   "cell_type": "markdown",
   "metadata": {},
   "source": [
    "There are three columns with the data type as object. Let us convert them to their appropriate data type. Here, CustomerID is being stored as a float value even though it is always an integer."
   ]
  },
  {
   "cell_type": "code",
   "execution_count": 9,
   "metadata": {},
   "outputs": [],
   "source": [
    "# Converting InvoiceNo from object to integer\n",
    "transaction_df['InvoiceNo'] = transaction_df['InvoiceNo'].astype(int)\n",
    "\n",
    "# Converting InvoiceDate from object to datetime\n",
    "transaction_df['InvoiceDate'] = pd.to_datetime(transaction_df['InvoiceDate'])\n",
    "\n",
    "# Converting Country from object to string\n",
    "transaction_df['Country'] = transaction_df['Country'].astype(str)"
   ]
  },
  {
   "cell_type": "markdown",
   "metadata": {},
   "source": [
    "The `CustomerID` column is currently holding values as float even though the data values are integer numbers. Let us convert its data type from float to integer as well."
   ]
  },
  {
   "cell_type": "code",
   "execution_count": 10,
   "metadata": {},
   "outputs": [],
   "source": [
    "# Converting CustomerID from float to integer\n",
    "transaction_df['CustomerID'] = transaction_df['CustomerID'].astype(int)"
   ]
  },
  {
   "cell_type": "markdown",
   "metadata": {},
   "source": [
    "Now, let us look at the head of the DataFrame to verify that the data types have been assigned appropriately."
   ]
  },
  {
   "cell_type": "code",
   "execution_count": 11,
   "metadata": {
    "scrolled": true
   },
   "outputs": [
    {
     "data": {
      "text/html": [
       "<div>\n",
       "<style scoped>\n",
       "    .dataframe tbody tr th:only-of-type {\n",
       "        vertical-align: middle;\n",
       "    }\n",
       "\n",
       "    .dataframe tbody tr th {\n",
       "        vertical-align: top;\n",
       "    }\n",
       "\n",
       "    .dataframe thead th {\n",
       "        text-align: right;\n",
       "    }\n",
       "</style>\n",
       "<table border=\"1\" class=\"dataframe\">\n",
       "  <thead>\n",
       "    <tr style=\"text-align: right;\">\n",
       "      <th></th>\n",
       "      <th>CustomerID</th>\n",
       "      <th>InvoiceNo</th>\n",
       "      <th>AmountSpent</th>\n",
       "      <th>InvoiceDate</th>\n",
       "      <th>Country</th>\n",
       "    </tr>\n",
       "  </thead>\n",
       "  <tbody>\n",
       "    <tr>\n",
       "      <th>0</th>\n",
       "      <td>17850</td>\n",
       "      <td>536365</td>\n",
       "      <td>15.30</td>\n",
       "      <td>2010-12-01 08:26:00</td>\n",
       "      <td>United Kingdom</td>\n",
       "    </tr>\n",
       "    <tr>\n",
       "      <th>1</th>\n",
       "      <td>17850</td>\n",
       "      <td>536365</td>\n",
       "      <td>20.34</td>\n",
       "      <td>2010-12-01 08:26:00</td>\n",
       "      <td>United Kingdom</td>\n",
       "    </tr>\n",
       "    <tr>\n",
       "      <th>2</th>\n",
       "      <td>17850</td>\n",
       "      <td>536365</td>\n",
       "      <td>22.00</td>\n",
       "      <td>2010-12-01 08:26:00</td>\n",
       "      <td>United Kingdom</td>\n",
       "    </tr>\n",
       "    <tr>\n",
       "      <th>3</th>\n",
       "      <td>17850</td>\n",
       "      <td>536365</td>\n",
       "      <td>20.34</td>\n",
       "      <td>2010-12-01 08:26:00</td>\n",
       "      <td>United Kingdom</td>\n",
       "    </tr>\n",
       "    <tr>\n",
       "      <th>4</th>\n",
       "      <td>17850</td>\n",
       "      <td>536365</td>\n",
       "      <td>20.34</td>\n",
       "      <td>2010-12-01 08:26:00</td>\n",
       "      <td>United Kingdom</td>\n",
       "    </tr>\n",
       "  </tbody>\n",
       "</table>\n",
       "</div>"
      ],
      "text/plain": [
       "   CustomerID  InvoiceNo  AmountSpent         InvoiceDate         Country\n",
       "0       17850     536365        15.30 2010-12-01 08:26:00  United Kingdom\n",
       "1       17850     536365        20.34 2010-12-01 08:26:00  United Kingdom\n",
       "2       17850     536365        22.00 2010-12-01 08:26:00  United Kingdom\n",
       "3       17850     536365        20.34 2010-12-01 08:26:00  United Kingdom\n",
       "4       17850     536365        20.34 2010-12-01 08:26:00  United Kingdom"
      ]
     },
     "execution_count": 11,
     "metadata": {},
     "output_type": "execute_result"
    }
   ],
   "source": [
    "# Looking at the first five rows\n",
    "transaction_df.head()"
   ]
  },
  {
   "cell_type": "code",
   "execution_count": 12,
   "metadata": {},
   "outputs": [
    {
     "data": {
      "text/plain": [
       "CustomerID              int32\n",
       "InvoiceNo               int32\n",
       "AmountSpent           float64\n",
       "InvoiceDate    datetime64[ns]\n",
       "Country                object\n",
       "dtype: object"
      ]
     },
     "execution_count": 12,
     "metadata": {},
     "output_type": "execute_result"
    }
   ],
   "source": [
    "transaction_df.dtypes"
   ]
  },
  {
   "cell_type": "markdown",
   "metadata": {},
   "source": [
    "Finally, let us also check if all the numeric values in the dataset are proper or not."
   ]
  },
  {
   "cell_type": "code",
   "execution_count": 13,
   "metadata": {},
   "outputs": [
    {
     "data": {
      "text/html": [
       "<div>\n",
       "<style scoped>\n",
       "    .dataframe tbody tr th:only-of-type {\n",
       "        vertical-align: middle;\n",
       "    }\n",
       "\n",
       "    .dataframe tbody tr th {\n",
       "        vertical-align: top;\n",
       "    }\n",
       "\n",
       "    .dataframe thead th {\n",
       "        text-align: right;\n",
       "    }\n",
       "</style>\n",
       "<table border=\"1\" class=\"dataframe\">\n",
       "  <thead>\n",
       "    <tr style=\"text-align: right;\">\n",
       "      <th></th>\n",
       "      <th>CustomerID</th>\n",
       "      <th>InvoiceNo</th>\n",
       "      <th>AmountSpent</th>\n",
       "    </tr>\n",
       "  </thead>\n",
       "  <tbody>\n",
       "    <tr>\n",
       "      <th>count</th>\n",
       "      <td>406828.000000</td>\n",
       "      <td>406828.000000</td>\n",
       "      <td>406828.000000</td>\n",
       "    </tr>\n",
       "    <tr>\n",
       "      <th>mean</th>\n",
       "      <td>15287.694552</td>\n",
       "      <td>560581.737412</td>\n",
       "      <td>20.401913</td>\n",
       "    </tr>\n",
       "    <tr>\n",
       "      <th>std</th>\n",
       "      <td>1713.600528</td>\n",
       "      <td>13105.458755</td>\n",
       "      <td>427.592241</td>\n",
       "    </tr>\n",
       "    <tr>\n",
       "      <th>min</th>\n",
       "      <td>12346.000000</td>\n",
       "      <td>536365.000000</td>\n",
       "      <td>-168469.600000</td>\n",
       "    </tr>\n",
       "    <tr>\n",
       "      <th>25%</th>\n",
       "      <td>13953.000000</td>\n",
       "      <td>549130.000000</td>\n",
       "      <td>4.200000</td>\n",
       "    </tr>\n",
       "    <tr>\n",
       "      <th>50%</th>\n",
       "      <td>15152.000000</td>\n",
       "      <td>561873.000000</td>\n",
       "      <td>11.100000</td>\n",
       "    </tr>\n",
       "    <tr>\n",
       "      <th>75%</th>\n",
       "      <td>16791.000000</td>\n",
       "      <td>572065.000000</td>\n",
       "      <td>19.500000</td>\n",
       "    </tr>\n",
       "    <tr>\n",
       "      <th>max</th>\n",
       "      <td>18287.000000</td>\n",
       "      <td>581587.000000</td>\n",
       "      <td>168469.600000</td>\n",
       "    </tr>\n",
       "  </tbody>\n",
       "</table>\n",
       "</div>"
      ],
      "text/plain": [
       "          CustomerID      InvoiceNo    AmountSpent\n",
       "count  406828.000000  406828.000000  406828.000000\n",
       "mean    15287.694552  560581.737412      20.401913\n",
       "std      1713.600528   13105.458755     427.592241\n",
       "min     12346.000000  536365.000000 -168469.600000\n",
       "25%     13953.000000  549130.000000       4.200000\n",
       "50%     15152.000000  561873.000000      11.100000\n",
       "75%     16791.000000  572065.000000      19.500000\n",
       "max     18287.000000  581587.000000  168469.600000"
      ]
     },
     "execution_count": 13,
     "metadata": {},
     "output_type": "execute_result"
    }
   ],
   "source": [
    "# Getting a statistical description of the dataset\n",
    "transaction_df.describe()"
   ]
  },
  {
   "cell_type": "markdown",
   "metadata": {},
   "source": [
    "We can see that the `AmountSpent` column has negative values in it. However, such column can only hold positive values that is greater than 0. Let us fix that."
   ]
  },
  {
   "cell_type": "code",
   "execution_count": 14,
   "metadata": {},
   "outputs": [],
   "source": [
    "# Getting the positive value \n",
    "transaction_df['AmountSpent'] = transaction_df['AmountSpent'].abs()"
   ]
  },
  {
   "cell_type": "code",
   "execution_count": 15,
   "metadata": {},
   "outputs": [
    {
     "data": {
      "text/html": [
       "<div>\n",
       "<style scoped>\n",
       "    .dataframe tbody tr th:only-of-type {\n",
       "        vertical-align: middle;\n",
       "    }\n",
       "\n",
       "    .dataframe tbody tr th {\n",
       "        vertical-align: top;\n",
       "    }\n",
       "\n",
       "    .dataframe thead th {\n",
       "        text-align: right;\n",
       "    }\n",
       "</style>\n",
       "<table border=\"1\" class=\"dataframe\">\n",
       "  <thead>\n",
       "    <tr style=\"text-align: right;\">\n",
       "      <th></th>\n",
       "      <th>CustomerID</th>\n",
       "      <th>InvoiceNo</th>\n",
       "      <th>AmountSpent</th>\n",
       "    </tr>\n",
       "  </thead>\n",
       "  <tbody>\n",
       "    <tr>\n",
       "      <th>count</th>\n",
       "      <td>406828.000000</td>\n",
       "      <td>406828.000000</td>\n",
       "      <td>406828.000000</td>\n",
       "    </tr>\n",
       "    <tr>\n",
       "      <th>mean</th>\n",
       "      <td>15287.694552</td>\n",
       "      <td>560581.737412</td>\n",
       "      <td>23.407303</td>\n",
       "    </tr>\n",
       "    <tr>\n",
       "      <th>std</th>\n",
       "      <td>1713.600528</td>\n",
       "      <td>13105.458755</td>\n",
       "      <td>427.438254</td>\n",
       "    </tr>\n",
       "    <tr>\n",
       "      <th>min</th>\n",
       "      <td>12346.000000</td>\n",
       "      <td>536365.000000</td>\n",
       "      <td>0.000000</td>\n",
       "    </tr>\n",
       "    <tr>\n",
       "      <th>25%</th>\n",
       "      <td>13953.000000</td>\n",
       "      <td>549130.000000</td>\n",
       "      <td>4.680000</td>\n",
       "    </tr>\n",
       "    <tr>\n",
       "      <th>50%</th>\n",
       "      <td>15152.000000</td>\n",
       "      <td>561873.000000</td>\n",
       "      <td>11.800000</td>\n",
       "    </tr>\n",
       "    <tr>\n",
       "      <th>75%</th>\n",
       "      <td>16791.000000</td>\n",
       "      <td>572065.000000</td>\n",
       "      <td>19.800000</td>\n",
       "    </tr>\n",
       "    <tr>\n",
       "      <th>max</th>\n",
       "      <td>18287.000000</td>\n",
       "      <td>581587.000000</td>\n",
       "      <td>168469.600000</td>\n",
       "    </tr>\n",
       "  </tbody>\n",
       "</table>\n",
       "</div>"
      ],
      "text/plain": [
       "          CustomerID      InvoiceNo    AmountSpent\n",
       "count  406828.000000  406828.000000  406828.000000\n",
       "mean    15287.694552  560581.737412      23.407303\n",
       "std      1713.600528   13105.458755     427.438254\n",
       "min     12346.000000  536365.000000       0.000000\n",
       "25%     13953.000000  549130.000000       4.680000\n",
       "50%     15152.000000  561873.000000      11.800000\n",
       "75%     16791.000000  572065.000000      19.800000\n",
       "max     18287.000000  581587.000000  168469.600000"
      ]
     },
     "execution_count": 15,
     "metadata": {},
     "output_type": "execute_result"
    }
   ],
   "source": [
    "# Getting a statistical description of the dataset\n",
    "transaction_df.describe()"
   ]
  },
  {
   "cell_type": "markdown",
   "metadata": {},
   "source": [
    "We've successfully cleaned the dataset!\n",
    "\n",
    "In a practical scenario, data cleaning can take anywhere from an hour to just a few seconds of time. The quality of data is dependent on multiple factors and in order to minimize the time taken to clean a dataset, all businesses should put an effort into collecting data from verified and validated sources.\n",
    "\n",
    "Moving on, let us save the cleaned dataset as a new CSV file so that we are able to use it in future lessons."
   ]
  },
  {
   "cell_type": "code",
   "execution_count": 16,
   "metadata": {},
   "outputs": [],
   "source": [
    "# Saving as a new CSV file\n",
    "transaction_df.to_csv('data/customer_dataset.csv', header=True, index=False)"
   ]
  },
  {
   "cell_type": "markdown",
   "metadata": {},
   "source": [
    "That is it for this lesson!\n",
    "\n",
    "I encourage you to go over each column of data one-by-one and understand this dataset even better. Also, as an exercise, you can try classifying whether the columns hold qualitative or quantitative values in them."
   ]
  }
 ],
 "metadata": {
  "kernelspec": {
   "display_name": "Python 3",
   "language": "python",
   "name": "python3"
  },
  "language_info": {
   "codemirror_mode": {
    "name": "ipython",
    "version": 3
   },
   "file_extension": ".py",
   "mimetype": "text/x-python",
   "name": "python",
   "nbconvert_exporter": "python",
   "pygments_lexer": "ipython3",
   "version": "3.8.3"
  }
 },
 "nbformat": 4,
 "nbformat_minor": 4
}
