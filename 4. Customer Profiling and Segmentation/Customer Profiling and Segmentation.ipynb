{
 "cells": [
  {
   "cell_type": "markdown",
   "metadata": {
    "_uuid": "054f0cca3061be223d76116cb8544b598eb5a297"
   },
   "source": [
    "# Customer Profiling and Segmentation\n",
    "\n",
    "In this lesson, we will be using the Recency, Frequency and Monetary value (revenue) information of customers to profile and segment them. Our choice of algorithm for this will be the K-Means clustering algorithm.\n",
    "\n",
    "The K-Means clustering algorithm is a Machine Learning algorithm that attempts to split a given data set into a fixed number (K) of clusters. The following example image shows how an unsegmented dataset gets segmented using the K-Means clustering algorithm when the number of clusters are properly specified: \n",
    "\n",
    "<img src = \"images/kmeans_clustering.png\" width=\"500\">"
   ]
  },
  {
   "cell_type": "markdown",
   "metadata": {},
   "source": [
    "We will require the scikit-learn library to use the **K-Means Clustering algorithm**. You can install the library using the following command:"
   ]
  },
  {
   "cell_type": "code",
   "execution_count": 1,
   "metadata": {},
   "outputs": [],
   "source": [
    "# !pip install scikit-learn"
   ]
  },
  {
   "cell_type": "markdown",
   "metadata": {
    "_uuid": "fd0fc89fe26333add074845d0629b52ae828584c"
   },
   "source": [
    "Now, let us start by importing the necessary libraries,"
   ]
  },
  {
   "cell_type": "code",
   "execution_count": 2,
   "metadata": {
    "_cell_guid": "b1076dfc-b9ad-4769-8c92-a6c4dae69d19",
    "_kg_hide-input": false,
    "_uuid": "8f2839f25d086af736a60e9eeb907d3b93b6e0e5"
   },
   "outputs": [],
   "source": [
    "import pandas as pd\n",
    "import matplotlib.pyplot as plt\n",
    "from sklearn.cluster import KMeans\n",
    "\n",
    "%matplotlib inline"
   ]
  },
  {
   "cell_type": "markdown",
   "metadata": {
    "_uuid": "5b838f778af8cb2740c6d54e5bb6608223ab54f4"
   },
   "source": [
    "Next, importing the CSV file called `user_dataset.csv` which contains information about the recency, frequency and monetary value of customers."
   ]
  },
  {
   "cell_type": "code",
   "execution_count": 3,
   "metadata": {
    "_cell_guid": "79c7e3d0-c299-4dcb-8224-4455121ee9b0",
    "_uuid": "d629ff2d2480ee46fbb7e2d37f6b5fab8052498a",
    "scrolled": true
   },
   "outputs": [],
   "source": [
    "# Read the CSV data as a Pandas DataFrame\n",
    "user_df = pd.read_csv('data/user_dataset.csv')"
   ]
  },
  {
   "cell_type": "code",
   "execution_count": 4,
   "metadata": {},
   "outputs": [
    {
     "data": {
      "text/html": [
       "<div>\n",
       "<style scoped>\n",
       "    .dataframe tbody tr th:only-of-type {\n",
       "        vertical-align: middle;\n",
       "    }\n",
       "\n",
       "    .dataframe tbody tr th {\n",
       "        vertical-align: top;\n",
       "    }\n",
       "\n",
       "    .dataframe thead th {\n",
       "        text-align: right;\n",
       "    }\n",
       "</style>\n",
       "<table border=\"1\" class=\"dataframe\">\n",
       "  <thead>\n",
       "    <tr style=\"text-align: right;\">\n",
       "      <th></th>\n",
       "      <th>CustomerID</th>\n",
       "      <th>Recency</th>\n",
       "      <th>Frequency</th>\n",
       "      <th>Revenue</th>\n",
       "    </tr>\n",
       "  </thead>\n",
       "  <tbody>\n",
       "    <tr>\n",
       "      <th>0</th>\n",
       "      <td>18074</td>\n",
       "      <td>373</td>\n",
       "      <td>13</td>\n",
       "      <td>489.60</td>\n",
       "    </tr>\n",
       "    <tr>\n",
       "      <th>1</th>\n",
       "      <td>13747</td>\n",
       "      <td>373</td>\n",
       "      <td>1</td>\n",
       "      <td>79.60</td>\n",
       "    </tr>\n",
       "    <tr>\n",
       "      <th>2</th>\n",
       "      <td>12791</td>\n",
       "      <td>373</td>\n",
       "      <td>2</td>\n",
       "      <td>192.60</td>\n",
       "    </tr>\n",
       "    <tr>\n",
       "      <th>3</th>\n",
       "      <td>17908</td>\n",
       "      <td>373</td>\n",
       "      <td>58</td>\n",
       "      <td>243.28</td>\n",
       "    </tr>\n",
       "    <tr>\n",
       "      <th>4</th>\n",
       "      <td>16583</td>\n",
       "      <td>373</td>\n",
       "      <td>14</td>\n",
       "      <td>233.45</td>\n",
       "    </tr>\n",
       "  </tbody>\n",
       "</table>\n",
       "</div>"
      ],
      "text/plain": [
       "   CustomerID  Recency  Frequency  Revenue\n",
       "0       18074      373         13   489.60\n",
       "1       13747      373          1    79.60\n",
       "2       12791      373          2   192.60\n",
       "3       17908      373         58   243.28\n",
       "4       16583      373         14   233.45"
      ]
     },
     "execution_count": 4,
     "metadata": {},
     "output_type": "execute_result"
    }
   ],
   "source": [
    "# Looking at the first five rows\n",
    "user_df.head()"
   ]
  },
  {
   "cell_type": "code",
   "execution_count": 5,
   "metadata": {},
   "outputs": [
    {
     "data": {
      "text/plain": [
       "(4372, 4)"
      ]
     },
     "execution_count": 5,
     "metadata": {},
     "output_type": "execute_result"
    }
   ],
   "source": [
    "# Printing the shape of the DataFrame\n",
    "user_df.shape"
   ]
  },
  {
   "cell_type": "markdown",
   "metadata": {},
   "source": [
    "Next, let us initiate the K-Means clustering algorithm with a total number of 4 clusters. \n",
    "\n",
    "Note that, there are different methods to determine how many clusters should be made in a dataset but we will not get into that for now."
   ]
  },
  {
   "cell_type": "code",
   "execution_count": 6,
   "metadata": {},
   "outputs": [],
   "source": [
    "# Build 4 clusters \n",
    "kmeans = KMeans(n_clusters=4)"
   ]
  },
  {
   "cell_type": "markdown",
   "metadata": {},
   "source": [
    "### Segmenting Customers based on Recency"
   ]
  },
  {
   "cell_type": "markdown",
   "metadata": {},
   "source": [
    "We will now fit the model object into the recency values in our dataframe."
   ]
  },
  {
   "cell_type": "code",
   "execution_count": 7,
   "metadata": {
    "scrolled": true
   },
   "outputs": [
    {
     "data": {
      "text/plain": [
       "KMeans(algorithm='auto', copy_x=True, init='k-means++', max_iter=300,\n",
       "       n_clusters=4, n_init=10, n_jobs=None, precompute_distances='auto',\n",
       "       random_state=None, tol=0.0001, verbose=0)"
      ]
     },
     "execution_count": 7,
     "metadata": {},
     "output_type": "execute_result"
    }
   ],
   "source": [
    "# Fitting the model\n",
    "kmeans.fit(user_df[['Recency']])"
   ]
  },
  {
   "cell_type": "markdown",
   "metadata": {},
   "source": [
    "Predicting the value of clusters and saving them as a new column `RecencyCluster` in the dataframe."
   ]
  },
  {
   "cell_type": "code",
   "execution_count": 8,
   "metadata": {},
   "outputs": [],
   "source": [
    "# Predicting clusters using the fitted model\n",
    "user_df['RecencyCluster'] = kmeans.predict(user_df[['Recency']])"
   ]
  },
  {
   "cell_type": "code",
   "execution_count": 9,
   "metadata": {},
   "outputs": [
    {
     "data": {
      "text/html": [
       "<div>\n",
       "<style scoped>\n",
       "    .dataframe tbody tr th:only-of-type {\n",
       "        vertical-align: middle;\n",
       "    }\n",
       "\n",
       "    .dataframe tbody tr th {\n",
       "        vertical-align: top;\n",
       "    }\n",
       "\n",
       "    .dataframe thead th {\n",
       "        text-align: right;\n",
       "    }\n",
       "</style>\n",
       "<table border=\"1\" class=\"dataframe\">\n",
       "  <thead>\n",
       "    <tr style=\"text-align: right;\">\n",
       "      <th></th>\n",
       "      <th>CustomerID</th>\n",
       "      <th>Recency</th>\n",
       "      <th>Frequency</th>\n",
       "      <th>Revenue</th>\n",
       "      <th>RecencyCluster</th>\n",
       "    </tr>\n",
       "  </thead>\n",
       "  <tbody>\n",
       "    <tr>\n",
       "      <th>0</th>\n",
       "      <td>18074</td>\n",
       "      <td>373</td>\n",
       "      <td>13</td>\n",
       "      <td>489.60</td>\n",
       "      <td>2</td>\n",
       "    </tr>\n",
       "    <tr>\n",
       "      <th>1</th>\n",
       "      <td>13747</td>\n",
       "      <td>373</td>\n",
       "      <td>1</td>\n",
       "      <td>79.60</td>\n",
       "      <td>2</td>\n",
       "    </tr>\n",
       "    <tr>\n",
       "      <th>2</th>\n",
       "      <td>12791</td>\n",
       "      <td>373</td>\n",
       "      <td>2</td>\n",
       "      <td>192.60</td>\n",
       "      <td>2</td>\n",
       "    </tr>\n",
       "    <tr>\n",
       "      <th>3</th>\n",
       "      <td>17908</td>\n",
       "      <td>373</td>\n",
       "      <td>58</td>\n",
       "      <td>243.28</td>\n",
       "      <td>2</td>\n",
       "    </tr>\n",
       "    <tr>\n",
       "      <th>4</th>\n",
       "      <td>16583</td>\n",
       "      <td>373</td>\n",
       "      <td>14</td>\n",
       "      <td>233.45</td>\n",
       "      <td>2</td>\n",
       "    </tr>\n",
       "  </tbody>\n",
       "</table>\n",
       "</div>"
      ],
      "text/plain": [
       "   CustomerID  Recency  Frequency  Revenue  RecencyCluster\n",
       "0       18074      373         13   489.60               2\n",
       "1       13747      373          1    79.60               2\n",
       "2       12791      373          2   192.60               2\n",
       "3       17908      373         58   243.28               2\n",
       "4       16583      373         14   233.45               2"
      ]
     },
     "execution_count": 9,
     "metadata": {},
     "output_type": "execute_result"
    }
   ],
   "source": [
    "# Viewing the first five rows of the dataframe\n",
    "user_df.head()"
   ]
  },
  {
   "cell_type": "markdown",
   "metadata": {},
   "source": [
    "We have now segmented our customers based on **Recency** into 4 different clusters. Let us now see the distribution of data in the 4 clusters."
   ]
  },
  {
   "cell_type": "code",
   "execution_count": 10,
   "metadata": {},
   "outputs": [
    {
     "data": {
      "text/plain": [
       "<matplotlib.axes._subplots.AxesSubplot at 0x273267f66a0>"
      ]
     },
     "execution_count": 10,
     "metadata": {},
     "output_type": "execute_result"
    },
    {
     "data": {
      "image/png": "[encoded data removed]",
      "text/plain": [
       "<Figure size 432x288 with 1 Axes>"
      ]
     },
     "metadata": {
      "needs_background": "light"
     },
     "output_type": "display_data"
    }
   ],
   "source": [
    "# Plotting the counts of data in each cluster\n",
    "user_df['RecencyCluster'].value_counts().plot.bar()"
   ]
  },
  {
   "cell_type": "markdown",
   "metadata": {},
   "source": [
    "We can see that the data has been distributed into different clusters namely 0, 1, 2, and 3. However, the K-Means Algorithm does not differentiate the ranking of clusters based on their order. We will hence order them based on their mean values."
   ]
  },
  {
   "cell_type": "code",
   "execution_count": 11,
   "metadata": {},
   "outputs": [],
   "source": [
    "# Create a new dataframe by grouping the dataframe based on different cluster values and find the mean\n",
    "df_new = user_df.groupby(\"RecencyCluster\")[\"Recency\"].mean().reset_index()"
   ]
  },
  {
   "cell_type": "code",
   "execution_count": 12,
   "metadata": {},
   "outputs": [
    {
     "data": {
      "text/html": [
       "<div>\n",
       "<style scoped>\n",
       "    .dataframe tbody tr th:only-of-type {\n",
       "        vertical-align: middle;\n",
       "    }\n",
       "\n",
       "    .dataframe tbody tr th {\n",
       "        vertical-align: top;\n",
       "    }\n",
       "\n",
       "    .dataframe thead th {\n",
       "        text-align: right;\n",
       "    }\n",
       "</style>\n",
       "<table border=\"1\" class=\"dataframe\">\n",
       "  <thead>\n",
       "    <tr style=\"text-align: right;\">\n",
       "      <th></th>\n",
       "      <th>RecencyCluster</th>\n",
       "      <th>Recency</th>\n",
       "    </tr>\n",
       "  </thead>\n",
       "  <tbody>\n",
       "    <tr>\n",
       "      <th>0</th>\n",
       "      <td>0</td>\n",
       "      <td>17.538533</td>\n",
       "    </tr>\n",
       "    <tr>\n",
       "      <th>1</th>\n",
       "      <td>1</td>\n",
       "      <td>189.451356</td>\n",
       "    </tr>\n",
       "    <tr>\n",
       "      <th>2</th>\n",
       "      <td>2</td>\n",
       "      <td>308.851779</td>\n",
       "    </tr>\n",
       "    <tr>\n",
       "      <th>3</th>\n",
       "      <td>3</td>\n",
       "      <td>79.278918</td>\n",
       "    </tr>\n",
       "  </tbody>\n",
       "</table>\n",
       "</div>"
      ],
      "text/plain": [
       "   RecencyCluster     Recency\n",
       "0               0   17.538533\n",
       "1               1  189.451356\n",
       "2               2  308.851779\n",
       "3               3   79.278918"
      ]
     },
     "execution_count": 12,
     "metadata": {},
     "output_type": "execute_result"
    }
   ],
   "source": [
    "# View the dataframe\n",
    "df_new"
   ]
  },
  {
   "cell_type": "markdown",
   "metadata": {},
   "source": [
    "We will rename the second column name as `RecencyMean` to avoid confusion as it is the mean of all the recency values in each cluster."
   ]
  },
  {
   "cell_type": "code",
   "execution_count": 13,
   "metadata": {},
   "outputs": [],
   "source": [
    "# Renaming the column\n",
    "df_new.rename(columns={\"Recency\": \"RecencyMean\"}, inplace=True)"
   ]
  },
  {
   "cell_type": "markdown",
   "metadata": {},
   "source": [
    "Let us now sort the values in our dataframe in descending order of the value of `RecencyMean`. This is due to the fact that the cluster with the highest values of Recency should have the lowest score, i.e. 0.\n",
    "\n",
    "**Note:** For Frequency and Revenue, we will be ordering the values in ascending order as their values are directly proportional to the score, i.e., a customer with a high frequency or revenue should have a high score."
   ]
  },
  {
   "cell_type": "code",
   "execution_count": 14,
   "metadata": {},
   "outputs": [
    {
     "data": {
      "text/html": [
       "<div>\n",
       "<style scoped>\n",
       "    .dataframe tbody tr th:only-of-type {\n",
       "        vertical-align: middle;\n",
       "    }\n",
       "\n",
       "    .dataframe tbody tr th {\n",
       "        vertical-align: top;\n",
       "    }\n",
       "\n",
       "    .dataframe thead th {\n",
       "        text-align: right;\n",
       "    }\n",
       "</style>\n",
       "<table border=\"1\" class=\"dataframe\">\n",
       "  <thead>\n",
       "    <tr style=\"text-align: right;\">\n",
       "      <th></th>\n",
       "      <th>RecencyCluster</th>\n",
       "      <th>RecencyMean</th>\n",
       "    </tr>\n",
       "  </thead>\n",
       "  <tbody>\n",
       "    <tr>\n",
       "      <th>0</th>\n",
       "      <td>2</td>\n",
       "      <td>308.851779</td>\n",
       "    </tr>\n",
       "    <tr>\n",
       "      <th>1</th>\n",
       "      <td>1</td>\n",
       "      <td>189.451356</td>\n",
       "    </tr>\n",
       "    <tr>\n",
       "      <th>2</th>\n",
       "      <td>3</td>\n",
       "      <td>79.278918</td>\n",
       "    </tr>\n",
       "    <tr>\n",
       "      <th>3</th>\n",
       "      <td>0</td>\n",
       "      <td>17.538533</td>\n",
       "    </tr>\n",
       "  </tbody>\n",
       "</table>\n",
       "</div>"
      ],
      "text/plain": [
       "   RecencyCluster  RecencyMean\n",
       "0               2   308.851779\n",
       "1               1   189.451356\n",
       "2               3    79.278918\n",
       "3               0    17.538533"
      ]
     },
     "execution_count": 14,
     "metadata": {},
     "output_type": "execute_result"
    }
   ],
   "source": [
    "# Sort the values\n",
    "df_new = df_new.sort_values(by= \"RecencyMean\", ascending= False).reset_index(drop=True)\n",
    "df_new"
   ]
  },
  {
   "cell_type": "markdown",
   "metadata": {},
   "source": [
    "We now have the required value of scores for each of the cluster in the index of our dataframe. We will save them as a new column called `RecencyScore`."
   ]
  },
  {
   "cell_type": "code",
   "execution_count": 15,
   "metadata": {},
   "outputs": [],
   "source": [
    "# Create a new column called index with the index values\n",
    "df_new['RecencyScore'] = df_new.index"
   ]
  },
  {
   "cell_type": "markdown",
   "metadata": {},
   "source": [
    "We will now merge the original user dataframe `user_df` with the new dataframe to add the value of `RecencyScore` into our dataframe. "
   ]
  },
  {
   "cell_type": "code",
   "execution_count": 16,
   "metadata": {},
   "outputs": [],
   "source": [
    "# Create a final dataframe by merging our original dataframe and the new dataframe\n",
    "df_user = pd.merge(user_df, df_new[[\"RecencyCluster\",'RecencyScore']], on= \"RecencyCluster\")\n",
    "\n",
    "# Remove the column for cluster\n",
    "df_user.drop(\"RecencyCluster\", axis= 1, inplace=True)"
   ]
  },
  {
   "cell_type": "markdown",
   "metadata": {},
   "source": [
    "Lets see how our data looks like now."
   ]
  },
  {
   "cell_type": "code",
   "execution_count": 17,
   "metadata": {},
   "outputs": [
    {
     "data": {
      "text/html": [
       "<div>\n",
       "<style scoped>\n",
       "    .dataframe tbody tr th:only-of-type {\n",
       "        vertical-align: middle;\n",
       "    }\n",
       "\n",
       "    .dataframe tbody tr th {\n",
       "        vertical-align: top;\n",
       "    }\n",
       "\n",
       "    .dataframe thead th {\n",
       "        text-align: right;\n",
       "    }\n",
       "</style>\n",
       "<table border=\"1\" class=\"dataframe\">\n",
       "  <thead>\n",
       "    <tr style=\"text-align: right;\">\n",
       "      <th></th>\n",
       "      <th>CustomerID</th>\n",
       "      <th>Recency</th>\n",
       "      <th>Frequency</th>\n",
       "      <th>Revenue</th>\n",
       "      <th>RecencyScore</th>\n",
       "    </tr>\n",
       "  </thead>\n",
       "  <tbody>\n",
       "    <tr>\n",
       "      <th>0</th>\n",
       "      <td>18074</td>\n",
       "      <td>373</td>\n",
       "      <td>13</td>\n",
       "      <td>489.60</td>\n",
       "      <td>0</td>\n",
       "    </tr>\n",
       "    <tr>\n",
       "      <th>1</th>\n",
       "      <td>13747</td>\n",
       "      <td>373</td>\n",
       "      <td>1</td>\n",
       "      <td>79.60</td>\n",
       "      <td>0</td>\n",
       "    </tr>\n",
       "    <tr>\n",
       "      <th>2</th>\n",
       "      <td>12791</td>\n",
       "      <td>373</td>\n",
       "      <td>2</td>\n",
       "      <td>192.60</td>\n",
       "      <td>0</td>\n",
       "    </tr>\n",
       "    <tr>\n",
       "      <th>3</th>\n",
       "      <td>17908</td>\n",
       "      <td>373</td>\n",
       "      <td>58</td>\n",
       "      <td>243.28</td>\n",
       "      <td>0</td>\n",
       "    </tr>\n",
       "    <tr>\n",
       "      <th>4</th>\n",
       "      <td>16583</td>\n",
       "      <td>373</td>\n",
       "      <td>14</td>\n",
       "      <td>233.45</td>\n",
       "      <td>0</td>\n",
       "    </tr>\n",
       "  </tbody>\n",
       "</table>\n",
       "</div>"
      ],
      "text/plain": [
       "   CustomerID  Recency  Frequency  Revenue  RecencyScore\n",
       "0       18074      373         13   489.60             0\n",
       "1       13747      373          1    79.60             0\n",
       "2       12791      373          2   192.60             0\n",
       "3       17908      373         58   243.28             0\n",
       "4       16583      373         14   233.45             0"
      ]
     },
     "execution_count": 17,
     "metadata": {},
     "output_type": "execute_result"
    }
   ],
   "source": [
    "# Looking at the first five rows\n",
    "df_user.head()"
   ]
  },
  {
   "cell_type": "markdown",
   "metadata": {},
   "source": [
    "Let us also view some of the statistical metrics of the clusters."
   ]
  },
  {
   "cell_type": "code",
   "execution_count": 18,
   "metadata": {},
   "outputs": [
    {
     "data": {
      "text/html": [
       "<div>\n",
       "<style scoped>\n",
       "    .dataframe tbody tr th:only-of-type {\n",
       "        vertical-align: middle;\n",
       "    }\n",
       "\n",
       "    .dataframe tbody tr th {\n",
       "        vertical-align: top;\n",
       "    }\n",
       "\n",
       "    .dataframe thead th {\n",
       "        text-align: right;\n",
       "    }\n",
       "</style>\n",
       "<table border=\"1\" class=\"dataframe\">\n",
       "  <thead>\n",
       "    <tr style=\"text-align: right;\">\n",
       "      <th></th>\n",
       "      <th>count</th>\n",
       "      <th>mean</th>\n",
       "      <th>std</th>\n",
       "      <th>min</th>\n",
       "      <th>25%</th>\n",
       "      <th>50%</th>\n",
       "      <th>75%</th>\n",
       "      <th>max</th>\n",
       "    </tr>\n",
       "    <tr>\n",
       "      <th>RecencyScore</th>\n",
       "      <th></th>\n",
       "      <th></th>\n",
       "      <th></th>\n",
       "      <th></th>\n",
       "      <th></th>\n",
       "      <th></th>\n",
       "      <th></th>\n",
       "      <th></th>\n",
       "    </tr>\n",
       "  </thead>\n",
       "  <tbody>\n",
       "    <tr>\n",
       "      <th>0</th>\n",
       "      <td>506.0</td>\n",
       "      <td>308.851779</td>\n",
       "      <td>39.144563</td>\n",
       "      <td>250.0</td>\n",
       "      <td>274.0</td>\n",
       "      <td>305.0</td>\n",
       "      <td>350.75</td>\n",
       "      <td>373.0</td>\n",
       "    </tr>\n",
       "    <tr>\n",
       "      <th>1</th>\n",
       "      <td>627.0</td>\n",
       "      <td>189.451356</td>\n",
       "      <td>32.948533</td>\n",
       "      <td>135.0</td>\n",
       "      <td>161.0</td>\n",
       "      <td>187.0</td>\n",
       "      <td>217.00</td>\n",
       "      <td>249.0</td>\n",
       "    </tr>\n",
       "    <tr>\n",
       "      <th>2</th>\n",
       "      <td>1072.0</td>\n",
       "      <td>79.278918</td>\n",
       "      <td>23.875838</td>\n",
       "      <td>49.0</td>\n",
       "      <td>59.0</td>\n",
       "      <td>73.0</td>\n",
       "      <td>95.00</td>\n",
       "      <td>134.0</td>\n",
       "    </tr>\n",
       "    <tr>\n",
       "      <th>3</th>\n",
       "      <td>2167.0</td>\n",
       "      <td>17.538533</td>\n",
       "      <td>13.320860</td>\n",
       "      <td>0.0</td>\n",
       "      <td>6.0</td>\n",
       "      <td>16.0</td>\n",
       "      <td>28.00</td>\n",
       "      <td>48.0</td>\n",
       "    </tr>\n",
       "  </tbody>\n",
       "</table>\n",
       "</div>"
      ],
      "text/plain": [
       "               count        mean        std    min    25%    50%     75%  \\\n",
       "RecencyScore                                                               \n",
       "0              506.0  308.851779  39.144563  250.0  274.0  305.0  350.75   \n",
       "1              627.0  189.451356  32.948533  135.0  161.0  187.0  217.00   \n",
       "2             1072.0   79.278918  23.875838   49.0   59.0   73.0   95.00   \n",
       "3             2167.0   17.538533  13.320860    0.0    6.0   16.0   28.00   \n",
       "\n",
       "                max  \n",
       "RecencyScore         \n",
       "0             373.0  \n",
       "1             249.0  \n",
       "2             134.0  \n",
       "3              48.0  "
      ]
     },
     "execution_count": 18,
     "metadata": {},
     "output_type": "execute_result"
    }
   ],
   "source": [
    "# See details of each cluster\n",
    "df_user.groupby('RecencyScore')['Recency'].describe()"
   ]
  },
  {
   "cell_type": "markdown",
   "metadata": {},
   "source": [
    "### Segmenting Customers based on Frequency"
   ]
  },
  {
   "cell_type": "markdown",
   "metadata": {},
   "source": [
    "We will now fit the model object into the frequency values in our dataframe."
   ]
  },
  {
   "cell_type": "code",
   "execution_count": 19,
   "metadata": {},
   "outputs": [
    {
     "data": {
      "text/plain": [
       "KMeans(algorithm='auto', copy_x=True, init='k-means++', max_iter=300,\n",
       "       n_clusters=4, n_init=10, n_jobs=None, precompute_distances='auto',\n",
       "       random_state=None, tol=0.0001, verbose=0)"
      ]
     },
     "execution_count": 19,
     "metadata": {},
     "output_type": "execute_result"
    }
   ],
   "source": [
    "# Fitting the model\n",
    "kmeans.fit(df_user[['Frequency']])"
   ]
  },
  {
   "cell_type": "markdown",
   "metadata": {},
   "source": [
    "Predicting the value of clusters and saving them as a new column `FrequencyCluster` in the dataframe."
   ]
  },
  {
   "cell_type": "code",
   "execution_count": 20,
   "metadata": {},
   "outputs": [],
   "source": [
    "# Predicting clusters using the fitted model\n",
    "df_user['FrequencyCluster'] = kmeans.predict(df_user[['Frequency']])"
   ]
  },
  {
   "cell_type": "markdown",
   "metadata": {},
   "source": [
    "We have now segmented our customers based on **Frequency** into 4 different clusters. Let us now see the distribution of data in the 4 clusters."
   ]
  },
  {
   "cell_type": "code",
   "execution_count": 21,
   "metadata": {},
   "outputs": [
    {
     "data": {
      "text/plain": [
       "<matplotlib.axes._subplots.AxesSubplot at 0x27326912760>"
      ]
     },
     "execution_count": 21,
     "metadata": {},
     "output_type": "execute_result"
    },
    {
     "data": {
      "image/png": "[encoded data removed]",
      "text/plain": [
       "<Figure size 432x288 with 1 Axes>"
      ]
     },
     "metadata": {
      "needs_background": "light"
     },
     "output_type": "display_data"
    }
   ],
   "source": [
    "# Plotting the counts of data in each cluster\n",
    "df_user['FrequencyCluster'].value_counts().plot.bar()"
   ]
  },
  {
   "cell_type": "markdown",
   "metadata": {},
   "source": [
    "We can see that the data has been distributed into different clusters namely 0, 1, 2, and 3. However, the K-Means Algorithm does not differentiate the ranking of clusters based on their order. We will again order them using the function below."
   ]
  },
  {
   "cell_type": "code",
   "execution_count": 22,
   "metadata": {},
   "outputs": [],
   "source": [
    "# Ordering cluster numbers\n",
    "def order_cluster(cluster_name, column_name, df, ascending):\n",
    "    \"\"\"\n",
    "    Order clusters based on their mean values.\n",
    "    \"\"\"\n",
    "    \n",
    "    # Create a new dataframe by grouping the dataframe based on different cluster values and find the mean\n",
    "    df_new = df.groupby(cluster_name)[column_name].mean().reset_index()\n",
    "    \n",
    "    # Sort the values\n",
    "    df_new = df_new.sort_values(by=column_name,ascending=ascending).reset_index(drop=True)\n",
    "    \n",
    "    # Create a new column with the index values as Score\n",
    "    new_column = column_name + \"Score\"\n",
    "    df_new[new_column] = df_new.index\n",
    "    \n",
    "    # Create a final dataframe by merging our original dataframe and the new dataframe\n",
    "    df_final = pd.merge(df,df_new[[cluster_name, new_column]], on=cluster_name)\n",
    "    \n",
    "    # Remove the column for cluster\n",
    "    df_final.drop(cluster_name, axis= 1, inplace=True)\n",
    "    \n",
    "    return df_final"
   ]
  },
  {
   "cell_type": "code",
   "execution_count": 23,
   "metadata": {},
   "outputs": [],
   "source": [
    "# Order the frequency cluster\n",
    "df_user = order_cluster('FrequencyCluster', 'Frequency', df_user, True)"
   ]
  },
  {
   "cell_type": "markdown",
   "metadata": {},
   "source": [
    "Lets see how our data looks like now."
   ]
  },
  {
   "cell_type": "code",
   "execution_count": 24,
   "metadata": {},
   "outputs": [
    {
     "data": {
      "text/html": [
       "<div>\n",
       "<style scoped>\n",
       "    .dataframe tbody tr th:only-of-type {\n",
       "        vertical-align: middle;\n",
       "    }\n",
       "\n",
       "    .dataframe tbody tr th {\n",
       "        vertical-align: top;\n",
       "    }\n",
       "\n",
       "    .dataframe thead th {\n",
       "        text-align: right;\n",
       "    }\n",
       "</style>\n",
       "<table border=\"1\" class=\"dataframe\">\n",
       "  <thead>\n",
       "    <tr style=\"text-align: right;\">\n",
       "      <th></th>\n",
       "      <th>CustomerID</th>\n",
       "      <th>Recency</th>\n",
       "      <th>Frequency</th>\n",
       "      <th>Revenue</th>\n",
       "      <th>RecencyScore</th>\n",
       "      <th>FrequencyScore</th>\n",
       "    </tr>\n",
       "  </thead>\n",
       "  <tbody>\n",
       "    <tr>\n",
       "      <th>0</th>\n",
       "      <td>18074</td>\n",
       "      <td>373</td>\n",
       "      <td>13</td>\n",
       "      <td>489.60</td>\n",
       "      <td>0</td>\n",
       "      <td>0</td>\n",
       "    </tr>\n",
       "    <tr>\n",
       "      <th>1</th>\n",
       "      <td>13747</td>\n",
       "      <td>373</td>\n",
       "      <td>1</td>\n",
       "      <td>79.60</td>\n",
       "      <td>0</td>\n",
       "      <td>0</td>\n",
       "    </tr>\n",
       "    <tr>\n",
       "      <th>2</th>\n",
       "      <td>12791</td>\n",
       "      <td>373</td>\n",
       "      <td>2</td>\n",
       "      <td>192.60</td>\n",
       "      <td>0</td>\n",
       "      <td>0</td>\n",
       "    </tr>\n",
       "    <tr>\n",
       "      <th>3</th>\n",
       "      <td>17908</td>\n",
       "      <td>373</td>\n",
       "      <td>58</td>\n",
       "      <td>243.28</td>\n",
       "      <td>0</td>\n",
       "      <td>0</td>\n",
       "    </tr>\n",
       "    <tr>\n",
       "      <th>4</th>\n",
       "      <td>16583</td>\n",
       "      <td>373</td>\n",
       "      <td>14</td>\n",
       "      <td>233.45</td>\n",
       "      <td>0</td>\n",
       "      <td>0</td>\n",
       "    </tr>\n",
       "  </tbody>\n",
       "</table>\n",
       "</div>"
      ],
      "text/plain": [
       "   CustomerID  Recency  Frequency  Revenue  RecencyScore  FrequencyScore\n",
       "0       18074      373         13   489.60             0               0\n",
       "1       13747      373          1    79.60             0               0\n",
       "2       12791      373          2   192.60             0               0\n",
       "3       17908      373         58   243.28             0               0\n",
       "4       16583      373         14   233.45             0               0"
      ]
     },
     "execution_count": 24,
     "metadata": {},
     "output_type": "execute_result"
    }
   ],
   "source": [
    "# Looking at the first five rows\n",
    "df_user.head()"
   ]
  },
  {
   "cell_type": "markdown",
   "metadata": {},
   "source": [
    "Let us also view some of the statistical metrics of the clusters."
   ]
  },
  {
   "cell_type": "code",
   "execution_count": 25,
   "metadata": {},
   "outputs": [
    {
     "data": {
      "text/html": [
       "<div>\n",
       "<style scoped>\n",
       "    .dataframe tbody tr th:only-of-type {\n",
       "        vertical-align: middle;\n",
       "    }\n",
       "\n",
       "    .dataframe tbody tr th {\n",
       "        vertical-align: top;\n",
       "    }\n",
       "\n",
       "    .dataframe thead th {\n",
       "        text-align: right;\n",
       "    }\n",
       "</style>\n",
       "<table border=\"1\" class=\"dataframe\">\n",
       "  <thead>\n",
       "    <tr style=\"text-align: right;\">\n",
       "      <th></th>\n",
       "      <th>count</th>\n",
       "      <th>mean</th>\n",
       "      <th>std</th>\n",
       "      <th>min</th>\n",
       "      <th>25%</th>\n",
       "      <th>50%</th>\n",
       "      <th>75%</th>\n",
       "      <th>max</th>\n",
       "    </tr>\n",
       "    <tr>\n",
       "      <th>FrequencyScore</th>\n",
       "      <th></th>\n",
       "      <th></th>\n",
       "      <th></th>\n",
       "      <th></th>\n",
       "      <th></th>\n",
       "      <th></th>\n",
       "      <th></th>\n",
       "      <th></th>\n",
       "    </tr>\n",
       "  </thead>\n",
       "  <tbody>\n",
       "    <tr>\n",
       "      <th>0</th>\n",
       "      <td>3862.0</td>\n",
       "      <td>49.753755</td>\n",
       "      <td>44.812998</td>\n",
       "      <td>1.0</td>\n",
       "      <td>15.0</td>\n",
       "      <td>34.0</td>\n",
       "      <td>73.0</td>\n",
       "      <td>189.0</td>\n",
       "    </tr>\n",
       "    <tr>\n",
       "      <th>1</th>\n",
       "      <td>482.0</td>\n",
       "      <td>329.105809</td>\n",
       "      <td>132.667903</td>\n",
       "      <td>190.0</td>\n",
       "      <td>228.0</td>\n",
       "      <td>286.0</td>\n",
       "      <td>393.5</td>\n",
       "      <td>803.0</td>\n",
       "    </tr>\n",
       "    <tr>\n",
       "      <th>2</th>\n",
       "      <td>24.0</td>\n",
       "      <td>1349.750000</td>\n",
       "      <td>508.637759</td>\n",
       "      <td>872.0</td>\n",
       "      <td>1003.5</td>\n",
       "      <td>1156.0</td>\n",
       "      <td>1541.0</td>\n",
       "      <td>2782.0</td>\n",
       "    </tr>\n",
       "    <tr>\n",
       "      <th>3</th>\n",
       "      <td>4.0</td>\n",
       "      <td>5914.000000</td>\n",
       "      <td>1473.845537</td>\n",
       "      <td>4642.0</td>\n",
       "      <td>5006.5</td>\n",
       "      <td>5515.5</td>\n",
       "      <td>6423.0</td>\n",
       "      <td>7983.0</td>\n",
       "    </tr>\n",
       "  </tbody>\n",
       "</table>\n",
       "</div>"
      ],
      "text/plain": [
       "                 count         mean          std     min     25%     50%  \\\n",
       "FrequencyScore                                                             \n",
       "0               3862.0    49.753755    44.812998     1.0    15.0    34.0   \n",
       "1                482.0   329.105809   132.667903   190.0   228.0   286.0   \n",
       "2                 24.0  1349.750000   508.637759   872.0  1003.5  1156.0   \n",
       "3                  4.0  5914.000000  1473.845537  4642.0  5006.5  5515.5   \n",
       "\n",
       "                   75%     max  \n",
       "FrequencyScore                  \n",
       "0                 73.0   189.0  \n",
       "1                393.5   803.0  \n",
       "2               1541.0  2782.0  \n",
       "3               6423.0  7983.0  "
      ]
     },
     "execution_count": 25,
     "metadata": {},
     "output_type": "execute_result"
    }
   ],
   "source": [
    "# See details of each cluster\n",
    "df_user.groupby('FrequencyScore')['Frequency'].describe()"
   ]
  },
  {
   "cell_type": "markdown",
   "metadata": {},
   "source": [
    "### Segmenting Customers based on Revenue"
   ]
  },
  {
   "cell_type": "markdown",
   "metadata": {},
   "source": [
    "We will now fit the model object into the revenue values in our dataframe."
   ]
  },
  {
   "cell_type": "code",
   "execution_count": 26,
   "metadata": {},
   "outputs": [
    {
     "data": {
      "text/plain": [
       "KMeans(algorithm='auto', copy_x=True, init='k-means++', max_iter=300,\n",
       "       n_clusters=4, n_init=10, n_jobs=None, precompute_distances='auto',\n",
       "       random_state=None, tol=0.0001, verbose=0)"
      ]
     },
     "execution_count": 26,
     "metadata": {},
     "output_type": "execute_result"
    }
   ],
   "source": [
    "# Fitting the model\n",
    "kmeans.fit(df_user[['Revenue']])"
   ]
  },
  {
   "cell_type": "markdown",
   "metadata": {},
   "source": [
    "Predicting the value of clusters and saving them as a new column `RevenueCluster` in the dataframe."
   ]
  },
  {
   "cell_type": "code",
   "execution_count": 27,
   "metadata": {},
   "outputs": [],
   "source": [
    "# Predicting clusters using the fitted model\n",
    "df_user['RevenueCluster'] = kmeans.predict(df_user[['Revenue']])"
   ]
  },
  {
   "cell_type": "markdown",
   "metadata": {},
   "source": [
    "We have now segmented our customers based on **Revenue** into 4 different clusters. Let us now see the distribution of data in the 4 clusters."
   ]
  },
  {
   "cell_type": "code",
   "execution_count": 28,
   "metadata": {},
   "outputs": [
    {
     "data": {
      "text/plain": [
       "<matplotlib.axes._subplots.AxesSubplot at 0x273268aabe0>"
      ]
     },
     "execution_count": 28,
     "metadata": {},
     "output_type": "execute_result"
    },
    {
     "data": {
      "image/png": "[encoded data removed]",
      "text/plain": [
       "<Figure size 432x288 with 1 Axes>"
      ]
     },
     "metadata": {
      "needs_background": "light"
     },
     "output_type": "display_data"
    }
   ],
   "source": [
    "# Plotting the counts of data in each cluster\n",
    "df_user['RevenueCluster'].value_counts().plot.bar()"
   ]
  },
  {
   "cell_type": "markdown",
   "metadata": {},
   "source": [
    "We can see that the data has been distributed into different clusters namely 0, 1, 2, and 3. However, the K-Means Algorithm does not differentiate the ranking of clusters based on their order. We will again order them using the `order_cluster` function below."
   ]
  },
  {
   "cell_type": "code",
   "execution_count": 29,
   "metadata": {},
   "outputs": [],
   "source": [
    "# Order the cluster numbers\n",
    "df_user = order_cluster('RevenueCluster', 'Revenue', df_user, True)"
   ]
  },
  {
   "cell_type": "markdown",
   "metadata": {},
   "source": [
    "Lets see how our data looks like now."
   ]
  },
  {
   "cell_type": "code",
   "execution_count": 30,
   "metadata": {},
   "outputs": [
    {
     "data": {
      "text/html": [
       "<div>\n",
       "<style scoped>\n",
       "    .dataframe tbody tr th:only-of-type {\n",
       "        vertical-align: middle;\n",
       "    }\n",
       "\n",
       "    .dataframe tbody tr th {\n",
       "        vertical-align: top;\n",
       "    }\n",
       "\n",
       "    .dataframe thead th {\n",
       "        text-align: right;\n",
       "    }\n",
       "</style>\n",
       "<table border=\"1\" class=\"dataframe\">\n",
       "  <thead>\n",
       "    <tr style=\"text-align: right;\">\n",
       "      <th></th>\n",
       "      <th>CustomerID</th>\n",
       "      <th>Recency</th>\n",
       "      <th>Frequency</th>\n",
       "      <th>Revenue</th>\n",
       "      <th>RecencyScore</th>\n",
       "      <th>FrequencyScore</th>\n",
       "      <th>RevenueScore</th>\n",
       "    </tr>\n",
       "  </thead>\n",
       "  <tbody>\n",
       "    <tr>\n",
       "      <th>0</th>\n",
       "      <td>18074</td>\n",
       "      <td>373</td>\n",
       "      <td>13</td>\n",
       "      <td>489.60</td>\n",
       "      <td>0</td>\n",
       "      <td>0</td>\n",
       "      <td>0</td>\n",
       "    </tr>\n",
       "    <tr>\n",
       "      <th>1</th>\n",
       "      <td>13747</td>\n",
       "      <td>373</td>\n",
       "      <td>1</td>\n",
       "      <td>79.60</td>\n",
       "      <td>0</td>\n",
       "      <td>0</td>\n",
       "      <td>0</td>\n",
       "    </tr>\n",
       "    <tr>\n",
       "      <th>2</th>\n",
       "      <td>12791</td>\n",
       "      <td>373</td>\n",
       "      <td>2</td>\n",
       "      <td>192.60</td>\n",
       "      <td>0</td>\n",
       "      <td>0</td>\n",
       "      <td>0</td>\n",
       "    </tr>\n",
       "    <tr>\n",
       "      <th>3</th>\n",
       "      <td>17908</td>\n",
       "      <td>373</td>\n",
       "      <td>58</td>\n",
       "      <td>243.28</td>\n",
       "      <td>0</td>\n",
       "      <td>0</td>\n",
       "      <td>0</td>\n",
       "    </tr>\n",
       "    <tr>\n",
       "      <th>4</th>\n",
       "      <td>16583</td>\n",
       "      <td>373</td>\n",
       "      <td>14</td>\n",
       "      <td>233.45</td>\n",
       "      <td>0</td>\n",
       "      <td>0</td>\n",
       "      <td>0</td>\n",
       "    </tr>\n",
       "  </tbody>\n",
       "</table>\n",
       "</div>"
      ],
      "text/plain": [
       "   CustomerID  Recency  Frequency  Revenue  RecencyScore  FrequencyScore  \\\n",
       "0       18074      373         13   489.60             0               0   \n",
       "1       13747      373          1    79.60             0               0   \n",
       "2       12791      373          2   192.60             0               0   \n",
       "3       17908      373         58   243.28             0               0   \n",
       "4       16583      373         14   233.45             0               0   \n",
       "\n",
       "   RevenueScore  \n",
       "0             0  \n",
       "1             0  \n",
       "2             0  \n",
       "3             0  \n",
       "4             0  "
      ]
     },
     "execution_count": 30,
     "metadata": {},
     "output_type": "execute_result"
    }
   ],
   "source": [
    "# Looking at the first five rows\n",
    "df_user.head()"
   ]
  },
  {
   "cell_type": "markdown",
   "metadata": {},
   "source": [
    "Let us also view some of the statistical metrics of the clusters."
   ]
  },
  {
   "cell_type": "code",
   "execution_count": 31,
   "metadata": {},
   "outputs": [
    {
     "data": {
      "text/html": [
       "<div>\n",
       "<style scoped>\n",
       "    .dataframe tbody tr th:only-of-type {\n",
       "        vertical-align: middle;\n",
       "    }\n",
       "\n",
       "    .dataframe tbody tr th {\n",
       "        vertical-align: top;\n",
       "    }\n",
       "\n",
       "    .dataframe thead th {\n",
       "        text-align: right;\n",
       "    }\n",
       "</style>\n",
       "<table border=\"1\" class=\"dataframe\">\n",
       "  <thead>\n",
       "    <tr style=\"text-align: right;\">\n",
       "      <th></th>\n",
       "      <th>count</th>\n",
       "      <th>mean</th>\n",
       "      <th>std</th>\n",
       "      <th>min</th>\n",
       "      <th>25%</th>\n",
       "      <th>50%</th>\n",
       "      <th>75%</th>\n",
       "      <th>max</th>\n",
       "    </tr>\n",
       "    <tr>\n",
       "      <th>RevenueScore</th>\n",
       "      <th></th>\n",
       "      <th></th>\n",
       "      <th></th>\n",
       "      <th></th>\n",
       "      <th></th>\n",
       "      <th></th>\n",
       "      <th></th>\n",
       "      <th></th>\n",
       "    </tr>\n",
       "  </thead>\n",
       "  <tbody>\n",
       "    <tr>\n",
       "      <th>0</th>\n",
       "      <td>4333.0</td>\n",
       "      <td>1463.977051</td>\n",
       "      <td>2287.153138</td>\n",
       "      <td>0.00</td>\n",
       "      <td>307.1600</td>\n",
       "      <td>669.140</td>\n",
       "      <td>1638.530</td>\n",
       "      <td>21834.77</td>\n",
       "    </tr>\n",
       "    <tr>\n",
       "      <th>1</th>\n",
       "      <td>30.0</td>\n",
       "      <td>47633.084667</td>\n",
       "      <td>18372.217546</td>\n",
       "      <td>26205.97</td>\n",
       "      <td>32635.0075</td>\n",
       "      <td>41268.655</td>\n",
       "      <td>61757.775</td>\n",
       "      <td>93999.38</td>\n",
       "    </tr>\n",
       "    <tr>\n",
       "      <th>2</th>\n",
       "      <td>6.0</td>\n",
       "      <td>144933.318333</td>\n",
       "      <td>33052.571335</td>\n",
       "      <td>111057.07</td>\n",
       "      <td>122557.2425</td>\n",
       "      <td>140235.405</td>\n",
       "      <td>154899.925</td>\n",
       "      <td>201619.41</td>\n",
       "    </tr>\n",
       "    <tr>\n",
       "      <th>3</th>\n",
       "      <td>3.0</td>\n",
       "      <td>293580.410000</td>\n",
       "      <td>38621.235867</td>\n",
       "      <td>262876.11</td>\n",
       "      <td>271899.5650</td>\n",
       "      <td>280923.020</td>\n",
       "      <td>308932.560</td>\n",
       "      <td>336942.10</td>\n",
       "    </tr>\n",
       "  </tbody>\n",
       "</table>\n",
       "</div>"
      ],
      "text/plain": [
       "               count           mean           std        min          25%  \\\n",
       "RevenueScore                                                                \n",
       "0             4333.0    1463.977051   2287.153138       0.00     307.1600   \n",
       "1               30.0   47633.084667  18372.217546   26205.97   32635.0075   \n",
       "2                6.0  144933.318333  33052.571335  111057.07  122557.2425   \n",
       "3                3.0  293580.410000  38621.235867  262876.11  271899.5650   \n",
       "\n",
       "                     50%         75%        max  \n",
       "RevenueScore                                     \n",
       "0                669.140    1638.530   21834.77  \n",
       "1              41268.655   61757.775   93999.38  \n",
       "2             140235.405  154899.925  201619.41  \n",
       "3             280923.020  308932.560  336942.10  "
      ]
     },
     "execution_count": 31,
     "metadata": {},
     "output_type": "execute_result"
    }
   ],
   "source": [
    "# Show details of the dataframe\n",
    "df_user.groupby('RevenueScore')['Revenue'].describe()"
   ]
  },
  {
   "cell_type": "markdown",
   "metadata": {},
   "source": [
    "Finally, we will combine all three values of scores to compute the **Overall RFM Score** of each of the customers."
   ]
  },
  {
   "cell_type": "code",
   "execution_count": 32,
   "metadata": {},
   "outputs": [],
   "source": [
    "# Calculate overall score\n",
    "df_user['OverallRFMScore'] = df_user['RecencyScore'] + df_user['FrequencyScore'] + df_user['RevenueScore']"
   ]
  },
  {
   "cell_type": "markdown",
   "metadata": {},
   "source": [
    "Let us see the range of our Overall RFM Score."
   ]
  },
  {
   "cell_type": "code",
   "execution_count": 33,
   "metadata": {},
   "outputs": [
    {
     "data": {
      "text/plain": [
       "array([0, 1, 2, 3, 4, 5, 6, 7, 8], dtype=int64)"
      ]
     },
     "execution_count": 33,
     "metadata": {},
     "output_type": "execute_result"
    }
   ],
   "source": [
    "# Printing the unique elements\n",
    "df_user['OverallRFMScore'].unique()"
   ]
  },
  {
   "cell_type": "markdown",
   "metadata": {},
   "source": [
    "We have 9 different scores for our data. Let us also see the data distribution in these scores."
   ]
  },
  {
   "cell_type": "code",
   "execution_count": 34,
   "metadata": {},
   "outputs": [
    {
     "data": {
      "text/plain": [
       "<matplotlib.axes._subplots.AxesSubplot at 0x27326a08190>"
      ]
     },
     "execution_count": 34,
     "metadata": {},
     "output_type": "execute_result"
    },
    {
     "data": {
      "image/png": "[encoded data removed]",
      "text/plain": [
       "<Figure size 432x288 with 1 Axes>"
      ]
     },
     "metadata": {
      "needs_background": "light"
     },
     "output_type": "display_data"
    }
   ],
   "source": [
    "# Plotting a bar plot\n",
    "df_user['OverallRFMScore'].value_counts().plot.bar()"
   ]
  },
  {
   "cell_type": "markdown",
   "metadata": {},
   "source": [
    "Let us also see what the mean values of each Recency, Frequency, and Revenue are for the Overall Scores."
   ]
  },
  {
   "cell_type": "code",
   "execution_count": 35,
   "metadata": {},
   "outputs": [
    {
     "name": "stderr",
     "output_type": "stream",
     "text": [
      "<ipython-input-35-ecc8028fae7d>:2: FutureWarning: Indexing with multiple keys (implicitly converted to a tuple of keys) will be deprecated, use a list instead.\n",
      "  df_user.groupby('OverallRFMScore')['Recency','Frequency','Revenue'].mean()\n"
     ]
    },
    {
     "data": {
      "text/html": [
       "<div>\n",
       "<style scoped>\n",
       "    .dataframe tbody tr th:only-of-type {\n",
       "        vertical-align: middle;\n",
       "    }\n",
       "\n",
       "    .dataframe tbody tr th {\n",
       "        vertical-align: top;\n",
       "    }\n",
       "\n",
       "    .dataframe thead th {\n",
       "        text-align: right;\n",
       "    }\n",
       "</style>\n",
       "<table border=\"1\" class=\"dataframe\">\n",
       "  <thead>\n",
       "    <tr style=\"text-align: right;\">\n",
       "      <th></th>\n",
       "      <th>Recency</th>\n",
       "      <th>Frequency</th>\n",
       "      <th>Revenue</th>\n",
       "    </tr>\n",
       "    <tr>\n",
       "      <th>OverallRFMScore</th>\n",
       "      <th></th>\n",
       "      <th></th>\n",
       "      <th></th>\n",
       "    </tr>\n",
       "  </thead>\n",
       "  <tbody>\n",
       "    <tr>\n",
       "      <th>0</th>\n",
       "      <td>308.842942</td>\n",
       "      <td>22.314115</td>\n",
       "      <td>383.595129</td>\n",
       "    </tr>\n",
       "    <tr>\n",
       "      <th>1</th>\n",
       "      <td>190.030596</td>\n",
       "      <td>33.101449</td>\n",
       "      <td>623.840839</td>\n",
       "    </tr>\n",
       "    <tr>\n",
       "      <th>2</th>\n",
       "      <td>80.466859</td>\n",
       "      <td>46.728146</td>\n",
       "      <td>1244.159301</td>\n",
       "    </tr>\n",
       "    <tr>\n",
       "      <th>3</th>\n",
       "      <td>20.370392</td>\n",
       "      <td>71.068548</td>\n",
       "      <td>1442.966959</td>\n",
       "    </tr>\n",
       "    <tr>\n",
       "      <th>4</th>\n",
       "      <td>12.434272</td>\n",
       "      <td>329.495305</td>\n",
       "      <td>5796.577254</td>\n",
       "    </tr>\n",
       "    <tr>\n",
       "      <th>5</th>\n",
       "      <td>6.448276</td>\n",
       "      <td>880.620690</td>\n",
       "      <td>21600.481379</td>\n",
       "    </tr>\n",
       "    <tr>\n",
       "      <th>6</th>\n",
       "      <td>8.222222</td>\n",
       "      <td>1059.111111</td>\n",
       "      <td>119222.916667</td>\n",
       "    </tr>\n",
       "    <tr>\n",
       "      <th>7</th>\n",
       "      <td>2.600000</td>\n",
       "      <td>3921.200000</td>\n",
       "      <td>107493.924000</td>\n",
       "    </tr>\n",
       "    <tr>\n",
       "      <th>8</th>\n",
       "      <td>0.500000</td>\n",
       "      <td>3994.000000</td>\n",
       "      <td>218000.260000</td>\n",
       "    </tr>\n",
       "  </tbody>\n",
       "</table>\n",
       "</div>"
      ],
      "text/plain": [
       "                    Recency    Frequency        Revenue\n",
       "OverallRFMScore                                        \n",
       "0                308.842942    22.314115     383.595129\n",
       "1                190.030596    33.101449     623.840839\n",
       "2                 80.466859    46.728146    1244.159301\n",
       "3                 20.370392    71.068548    1442.966959\n",
       "4                 12.434272   329.495305    5796.577254\n",
       "5                  6.448276   880.620690   21600.481379\n",
       "6                  8.222222  1059.111111  119222.916667\n",
       "7                  2.600000  3921.200000  107493.924000\n",
       "8                  0.500000  3994.000000  218000.260000"
      ]
     },
     "execution_count": 35,
     "metadata": {},
     "output_type": "execute_result"
    }
   ],
   "source": [
    "# Grouping by the OverallRFMScore column and getting the mean\n",
    "df_user.groupby('OverallRFMScore')['Recency','Frequency','Revenue'].mean()"
   ]
  },
  {
   "cell_type": "markdown",
   "metadata": {},
   "source": [
    "The majority of data values seem to have a RFM Score of 3, followed by 2 and 1.\n",
    "\n",
    "- A low RFM Score means that the customers have a low value of recency, are less frequent, and generate low revenue.  \n",
    "- A high RFM score means that the customers have a high value of recency, are more frequent, and generate higher value of revenue to us. "
   ]
  },
  {
   "cell_type": "markdown",
   "metadata": {},
   "source": [
    "### Segmenting Customers based on Overall RFM Score"
   ]
  },
  {
   "cell_type": "markdown",
   "metadata": {},
   "source": [
    "We will now segment the customers into three groups based on overall RFM score.\n",
    "\n",
    "- Low-value\n",
    "- Mid-value\n",
    "- High-value"
   ]
  },
  {
   "cell_type": "code",
   "execution_count": 36,
   "metadata": {},
   "outputs": [],
   "source": [
    "# Segment the customers based on overall score\n",
    "df_user['Segment'] = 'Low-Value'\n",
    "df_user.loc[df_user['OverallRFMScore']>2, 'Segment'] = 'Mid-Value' \n",
    "df_user.loc[df_user['OverallRFMScore']>4, 'Segment'] = 'High-Value' "
   ]
  },
  {
   "cell_type": "code",
   "execution_count": 37,
   "metadata": {},
   "outputs": [
    {
     "data": {
      "text/plain": [
       "<matplotlib.axes._subplots.AxesSubplot at 0x27326a7d8b0>"
      ]
     },
     "execution_count": 37,
     "metadata": {},
     "output_type": "execute_result"
    },
    {
     "data": {
      "image/png": "[encoded data removed]",
      "text/plain": [
       "<Figure size 432x288 with 1 Axes>"
      ]
     },
     "metadata": {
      "needs_background": "light"
     },
     "output_type": "display_data"
    }
   ],
   "source": [
    "# Plotting a bar plot\n",
    "df_user['Segment'].value_counts().plot.bar()"
   ]
  },
  {
   "cell_type": "markdown",
   "metadata": {},
   "source": [
    "It can be seen that we have a large amount of low and mid-value customers but very less amount of high-value customers. This segmentation can help us determine the kind of strategies and approaches needed for improving sales and profit, which will allow us to increase the amount of high-value customers and their retention. "
   ]
  },
  {
   "cell_type": "markdown",
   "metadata": {},
   "source": [
    "Finally, let us plot the customer groups and view their segmentations visually."
   ]
  },
  {
   "cell_type": "markdown",
   "metadata": {},
   "source": [
    "#### Frequency vs Revenue"
   ]
  },
  {
   "cell_type": "code",
   "execution_count": 38,
   "metadata": {},
   "outputs": [
    {
     "data": {
      "text/plain": [
       "Text(0, 0.5, 'Revenue')"
      ]
     },
     "execution_count": 38,
     "metadata": {},
     "output_type": "execute_result"
    },
    {
     "data": {
      "image/png": "[encoded data removed]",
      "text/plain": [
       "<Figure size 432x288 with 1 Axes>"
      ]
     },
     "metadata": {
      "needs_background": "light"
     },
     "output_type": "display_data"
    }
   ],
   "source": [
    "# Scatter plot for low-value\n",
    "plt.scatter(x=df_user.query(\"Segment == 'Low-Value'\")['Frequency'],\n",
    "        y=df_user.query(\"Segment == 'Low-Value'\")['Revenue'], label= \"Low-value\")\n",
    "\n",
    "# Scatter plot for mid-value\n",
    "plt.scatter(x=df_user.query(\"Segment == 'Mid-Value'\")['Frequency'],\n",
    "        y=df_user.query(\"Segment == 'Mid-Value'\")['Revenue'], label= \"Mid-value\")\n",
    "\n",
    "# Scatter plot for high-value\n",
    "plt.scatter(x=df_user.query(\"Segment == 'High-Value'\")['Frequency'],\n",
    "        y=df_user.query(\"Segment == 'High-Value'\")['Revenue'], label= \"High-value\")\n",
    "\n",
    "# Making the plot easier to look at\n",
    "plt.legend(loc=\"upper right\")\n",
    "plt.title(\"Frequency vs Revenue Segmentation\")\n",
    "plt.xlabel(\"Frequency\")\n",
    "plt.ylabel(\"Revenue\")"
   ]
  },
  {
   "cell_type": "markdown",
   "metadata": {},
   "source": [
    "#### Recency vs Revenue"
   ]
  },
  {
   "cell_type": "code",
   "execution_count": 39,
   "metadata": {},
   "outputs": [
    {
     "data": {
      "text/plain": [
       "Text(0, 0.5, 'Revenue')"
      ]
     },
     "execution_count": 39,
     "metadata": {},
     "output_type": "execute_result"
    },
    {
     "data": {
      "image/png": "[encoded data removed]",
      "text/plain": [
       "<Figure size 432x288 with 1 Axes>"
      ]
     },
     "metadata": {
      "needs_background": "light"
     },
     "output_type": "display_data"
    }
   ],
   "source": [
    "# Scatter plot for low-value\n",
    "plt.scatter(x=df_user.query(\"Segment == 'Low-Value'\")['Recency'],\n",
    "        y=df_user.query(\"Segment == 'Low-Value'\")['Revenue'], label= \"Low-value\")\n",
    "\n",
    "# Scatter plot for mid-value\n",
    "plt.scatter(x=df_user.query(\"Segment == 'Mid-Value'\")['Recency'],\n",
    "        y=df_user.query(\"Segment == 'Mid-Value'\")['Revenue'], label= \"Mid-value\")\n",
    "\n",
    "# Scatter plot for high-value\n",
    "plt.scatter(x=df_user.query(\"Segment == 'High-Value'\")['Recency'],\n",
    "        y=df_user.query(\"Segment == 'High-Value'\")['Revenue'], label= \"High-value\")\n",
    "\n",
    "# Making the plot easier to look at\n",
    "plt.legend(loc=\"upper right\")\n",
    "plt.title(\"Recency vs Revenue Segmentation\")\n",
    "plt.xlabel(\"Recency\")\n",
    "plt.ylabel(\"Revenue\")"
   ]
  },
  {
   "cell_type": "markdown",
   "metadata": {},
   "source": [
    "#### Recency vs Frequency\n"
   ]
  },
  {
   "cell_type": "code",
   "execution_count": 40,
   "metadata": {},
   "outputs": [
    {
     "data": {
      "text/plain": [
       "Text(0, 0.5, 'Frequency')"
      ]
     },
     "execution_count": 40,
     "metadata": {},
     "output_type": "execute_result"
    },
    {
     "data": {
      "image/png": "[encoded data removed]",
      "text/plain": [
       "<Figure size 432x288 with 1 Axes>"
      ]
     },
     "metadata": {
      "needs_background": "light"
     },
     "output_type": "display_data"
    }
   ],
   "source": [
    "# Scatter plot for low-value\n",
    "plt.scatter(x=df_user.query(\"Segment == 'Low-Value'\")['Recency'],\n",
    "        y=df_user.query(\"Segment == 'Low-Value'\")['Frequency'], label= \"Low-value\")\n",
    "\n",
    "# Scatter plot for mid-value\n",
    "plt.scatter(x=df_user.query(\"Segment == 'Mid-Value'\")['Recency'],\n",
    "        y=df_user.query(\"Segment == 'Mid-Value'\")['Frequency'], label= \"Mid-value\")\n",
    "\n",
    "# Scatter plot for high-value\n",
    "plt.scatter(x=df_user.query(\"Segment == 'High-Value'\")['Recency'],\n",
    "        y=df_user.query(\"Segment == 'High-Value'\")['Frequency'], label= \"High-value\")\n",
    "\n",
    "# Making the plot easier to look at\n",
    "plt.legend(loc=\"upper right\")\n",
    "plt.title(\"Recency vs Frequency Segmentation\")\n",
    "plt.xlabel(\"Recency\")\n",
    "plt.ylabel(\"Frequency\")"
   ]
  },
  {
   "cell_type": "markdown",
   "metadata": {},
   "source": [
    "#### Revenue vs Frequency"
   ]
  },
  {
   "cell_type": "code",
   "execution_count": 41,
   "metadata": {},
   "outputs": [
    {
     "data": {
      "text/plain": [
       "Text(0, 0.5, 'Frequency')"
      ]
     },
     "execution_count": 41,
     "metadata": {},
     "output_type": "execute_result"
    },
    {
     "data": {
      "image/png": "[encoded data removed]",
      "text/plain": [
       "<Figure size 432x288 with 1 Axes>"
      ]
     },
     "metadata": {
      "needs_background": "light"
     },
     "output_type": "display_data"
    }
   ],
   "source": [
    "# Scatter plot for low-value\n",
    "plt.scatter(x=df_user.query(\"Segment == 'Low-Value'\")['Revenue'],\n",
    "        y=df_user.query(\"Segment == 'Low-Value'\")['Frequency'], label= \"Low-value\")\n",
    "\n",
    "# Scatter plot for mid-value\n",
    "plt.scatter(x=df_user.query(\"Segment == 'Mid-Value'\")['Revenue'],\n",
    "        y=df_user.query(\"Segment == 'Mid-Value'\")['Frequency'], label= \"Mid-value\")\n",
    "\n",
    "# Scatter plot for high-value\n",
    "plt.scatter(x=df_user.query(\"Segment == 'High-Value'\")['Revenue'],\n",
    "        y=df_user.query(\"Segment == 'High-Value'\")['Frequency'], label= \"High-value\")\n",
    "\n",
    "# Making the plot easier to look at\n",
    "plt.legend(loc=\"upper right\")\n",
    "plt.title(\"Revenue vs Frequency Segmentation\")\n",
    "plt.xlabel(\"Revenue\")\n",
    "plt.ylabel(\"Frequency\")"
   ]
  },
  {
   "cell_type": "markdown",
   "metadata": {},
   "source": [
    "Hence, we've successfully segmented our customers and these segments can now help us in various processes of building the business such as sales and marketing."
   ]
  }
 ],
 "metadata": {
  "kernelspec": {
   "display_name": "Python 3",
   "language": "python",
   "name": "python3"
  },
  "language_info": {
   "codemirror_mode": {
    "name": "ipython",
    "version": 3
   },
   "file_extension": ".py",
   "mimetype": "text/x-python",
   "name": "python",
   "nbconvert_exporter": "python",
   "pygments_lexer": "ipython3",
   "version": "3.8.3"
  }
 },
 "nbformat": 4,
 "nbformat_minor": 4
}
